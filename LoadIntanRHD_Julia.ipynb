{
 "cells": [
  {
   "cell_type": "markdown",
   "id": "b216b1dd",
   "metadata": {},
   "source": [
    "# Load Data from an Intan RHD file.\n",
    "### Header information (and saved data, if present) will be stored in the *result* variable. You'll also be able to specify a channel's name to plot its recorded data as an example of accessing data from *result*."
   ]
  },
  {
   "cell_type": "code",
   "execution_count": null,
   "id": "ed73d6b0",
   "metadata": {
    "scrolled": true
   },
   "outputs": [],
   "source": [
    "# Include the background Julia functions that allow for data loading and plotting\n",
    "include(\"importrhdutilities.jl\");"
   ]
  },
  {
   "cell_type": "markdown",
   "id": "63f83e78",
   "metadata": {},
   "source": [
    "### Name of file to load. To load a different file, move it to the same directory as this notebook, and change the following 'filename' variable to point to the name of your file.\n",
    "\n",
    "### Once a file is loaded, all of its information is stored in the *result* variable. If further analysis of this data is desired, this is the variable that should be accessed."
   ]
  },
  {
   "cell_type": "code",
   "execution_count": null,
   "id": "895ea1ac",
   "metadata": {},
   "outputs": [],
   "source": [
    "filename = \"sampledata.rhd\" # Change this variable to load a different data file\n",
    "(result, data_present) = load_file(filename);"
   ]
  },
  {
   "cell_type": "markdown",
   "id": "e0e0d508",
   "metadata": {},
   "source": [
    "### Once a file is loaded, all of its information is stored in the *result* variable. If further analysis of recorded data is desired, this is the variable that should be used."
   ]
  },
  {
   "cell_type": "code",
   "execution_count": null,
   "id": "aa01d159",
   "metadata": {
    "scrolled": true
   },
   "outputs": [],
   "source": [
    "print_all_channel_names(result) # Uncomment this line and re-run cell to display names of all available channels"
   ]
  },
  {
   "cell_type": "code",
   "execution_count": null,
   "id": "e95fa2f1",
   "metadata": {},
   "outputs": [],
   "source": [
    "channel_name = \"A-007\" # Change this variable and re-run cell to plot a different channel\n",
    "\n",
    "using Plots\n",
    "\n",
    "if (data_present == 1)\n",
    "    plot_channel(channel_name, result)\n",
    "else\n",
    "    print(\"Plotting not possible; no data in this file\")\n",
    "end"
   ]
  }
 ],
 "metadata": {
  "kernelspec": {
   "display_name": "Julia 1.5.3",
   "language": "julia",
   "name": "julia-1.5"
  },
  "language_info": {
   "file_extension": ".jl",
   "mimetype": "application/julia",
   "name": "julia",
   "version": "1.5.3"
  }
 },
 "nbformat": 4,
 "nbformat_minor": 5
}
